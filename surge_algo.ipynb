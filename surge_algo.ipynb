{
 "cells": [
  {
   "cell_type": "code",
   "execution_count": null,
   "id": "4efda53c-55e6-416b-874d-0d89f52518ac",
   "metadata": {},
   "outputs": [],
   "source": [
    "import numpy as np\n",
    "import pandas as pd\n",
    "\n",
    "from sklearn.ensemble import RandomForestClassifier\n",
    "from sklearn.model_selection import train_test_split\n",
    "from sklearn.preprocessing import LabelEncoder\n",
    "from sklearn.model_selection import train_test_split\n",
    "from sklearn.metrics import precision_score, recall_score\n",
    "from sklearn.metrics import accuracy_score\n",
    "\n",
    "rides = pd.read_csv(\"cab_rides.csv\",delimiter=',')\n",
    "weather = pd.read_csv(\"weather.csv\",delimiter=',')"
   ]
  },
  {
   "cell_type": "code",
   "execution_count": 2,
   "id": "0666e7b6-56ef-430b-a724-042cc3c8f612",
   "metadata": {},
   "outputs": [],
   "source": [
    "# print(rides)\n",
    "# print(weather)"
   ]
  },
  {
   "cell_type": "code",
   "execution_count": 3,
   "id": "942406e2-9fe9-47f5-80a8-829da5774e9a",
   "metadata": {},
   "outputs": [
    {
     "data": {
      "text/html": [
       "<div>\n",
       "<style scoped>\n",
       "    .dataframe tbody tr th:only-of-type {\n",
       "        vertical-align: middle;\n",
       "    }\n",
       "\n",
       "    .dataframe tbody tr th {\n",
       "        vertical-align: top;\n",
       "    }\n",
       "\n",
       "    .dataframe thead th {\n",
       "        text-align: right;\n",
       "    }\n",
       "</style>\n",
       "<table border=\"1\" class=\"dataframe\">\n",
       "  <thead>\n",
       "    <tr style=\"text-align: right;\">\n",
       "      <th></th>\n",
       "      <th>distance</th>\n",
       "      <th>cab_type</th>\n",
       "      <th>time_stamp</th>\n",
       "      <th>destination</th>\n",
       "      <th>source</th>\n",
       "      <th>price</th>\n",
       "      <th>surge_multiplier</th>\n",
       "      <th>id</th>\n",
       "      <th>product_id</th>\n",
       "      <th>name</th>\n",
       "      <th>date_time</th>\n",
       "    </tr>\n",
       "  </thead>\n",
       "  <tbody>\n",
       "    <tr>\n",
       "      <th>0</th>\n",
       "      <td>0.44</td>\n",
       "      <td>Lyft</td>\n",
       "      <td>1544952607890</td>\n",
       "      <td>North Station</td>\n",
       "      <td>Haymarket Square</td>\n",
       "      <td>5.0</td>\n",
       "      <td>1.0</td>\n",
       "      <td>424553bb-7174-41ea-aeb4-fe06d4f4b9d7</td>\n",
       "      <td>lyft_line</td>\n",
       "      <td>Shared</td>\n",
       "      <td>2018-12-16 09:30:08</td>\n",
       "    </tr>\n",
       "    <tr>\n",
       "      <th>1</th>\n",
       "      <td>0.44</td>\n",
       "      <td>Lyft</td>\n",
       "      <td>1543284023677</td>\n",
       "      <td>North Station</td>\n",
       "      <td>Haymarket Square</td>\n",
       "      <td>11.0</td>\n",
       "      <td>1.0</td>\n",
       "      <td>4bd23055-6827-41c6-b23b-3c491f24e74d</td>\n",
       "      <td>lyft_premier</td>\n",
       "      <td>Lux</td>\n",
       "      <td>2018-11-27 02:00:24</td>\n",
       "    </tr>\n",
       "    <tr>\n",
       "      <th>2</th>\n",
       "      <td>0.44</td>\n",
       "      <td>Lyft</td>\n",
       "      <td>1543366822198</td>\n",
       "      <td>North Station</td>\n",
       "      <td>Haymarket Square</td>\n",
       "      <td>7.0</td>\n",
       "      <td>1.0</td>\n",
       "      <td>981a3613-77af-4620-a42a-0c0866077d1e</td>\n",
       "      <td>lyft</td>\n",
       "      <td>Lyft</td>\n",
       "      <td>2018-11-28 01:00:22</td>\n",
       "    </tr>\n",
       "    <tr>\n",
       "      <th>3</th>\n",
       "      <td>0.44</td>\n",
       "      <td>Lyft</td>\n",
       "      <td>1543553582749</td>\n",
       "      <td>North Station</td>\n",
       "      <td>Haymarket Square</td>\n",
       "      <td>26.0</td>\n",
       "      <td>1.0</td>\n",
       "      <td>c2d88af2-d278-4bfd-a8d0-29ca77cc5512</td>\n",
       "      <td>lyft_luxsuv</td>\n",
       "      <td>Lux Black XL</td>\n",
       "      <td>2018-11-30 04:53:03</td>\n",
       "    </tr>\n",
       "    <tr>\n",
       "      <th>4</th>\n",
       "      <td>0.44</td>\n",
       "      <td>Lyft</td>\n",
       "      <td>1543463360223</td>\n",
       "      <td>North Station</td>\n",
       "      <td>Haymarket Square</td>\n",
       "      <td>9.0</td>\n",
       "      <td>1.0</td>\n",
       "      <td>e0126e1f-8ca9-4f2e-82b3-50505a09db9a</td>\n",
       "      <td>lyft_plus</td>\n",
       "      <td>Lyft XL</td>\n",
       "      <td>2018-11-29 03:49:20</td>\n",
       "    </tr>\n",
       "  </tbody>\n",
       "</table>\n",
       "</div>"
      ],
      "text/plain": [
       "   distance cab_type     time_stamp    destination            source  price  \\\n",
       "0      0.44     Lyft  1544952607890  North Station  Haymarket Square    5.0   \n",
       "1      0.44     Lyft  1543284023677  North Station  Haymarket Square   11.0   \n",
       "2      0.44     Lyft  1543366822198  North Station  Haymarket Square    7.0   \n",
       "3      0.44     Lyft  1543553582749  North Station  Haymarket Square   26.0   \n",
       "4      0.44     Lyft  1543463360223  North Station  Haymarket Square    9.0   \n",
       "\n",
       "   surge_multiplier                                    id    product_id  \\\n",
       "0               1.0  424553bb-7174-41ea-aeb4-fe06d4f4b9d7     lyft_line   \n",
       "1               1.0  4bd23055-6827-41c6-b23b-3c491f24e74d  lyft_premier   \n",
       "2               1.0  981a3613-77af-4620-a42a-0c0866077d1e          lyft   \n",
       "3               1.0  c2d88af2-d278-4bfd-a8d0-29ca77cc5512   lyft_luxsuv   \n",
       "4               1.0  e0126e1f-8ca9-4f2e-82b3-50505a09db9a     lyft_plus   \n",
       "\n",
       "           name           date_time  \n",
       "0        Shared 2018-12-16 09:30:08  \n",
       "1           Lux 2018-11-27 02:00:24  \n",
       "2          Lyft 2018-11-28 01:00:22  \n",
       "3  Lux Black XL 2018-11-30 04:53:03  \n",
       "4       Lyft XL 2018-11-29 03:49:20  "
      ]
     },
     "execution_count": 3,
     "metadata": {},
     "output_type": "execute_result"
    }
   ],
   "source": [
    "# Convert the timestamp into the desirable format\n",
    "rides['date_time'] = pd.to_datetime(round(rides['time_stamp']/1000,0), unit='s')\n",
    "weather['date_time'] = pd.to_datetime(weather['time_stamp'], unit='s')\n",
    "rides.head()\n",
    "\n",
    "\n"
   ]
  },
  {
   "cell_type": "code",
   "execution_count": 4,
   "id": "6866bfa0-37d8-4a59-850e-b5b8d558564f",
   "metadata": {},
   "outputs": [],
   "source": [
    "# weather.head()\n",
    "# print(weather)"
   ]
  },
  {
   "cell_type": "code",
   "execution_count": 5,
   "id": "e6e3b7bb-849a-4ff4-874d-884a3ef2e18c",
   "metadata": {},
   "outputs": [],
   "source": [
    "# # final_dataframe = rides.join(weather, on=['date_time'],rsuffix = '_w')\n",
    "# final_dataframe = rides.merge(weather, on=['date_time'])\n",
    "\n",
    "# #drop the null values rows\n",
    "\n",
    "# final_dataframe=final_dataframe.dropna(axis=0)\n",
    "\n",
    "# #make different columns of day and hour to simplify the format of date\n",
    "# final_dataframe['day'] = final_dataframe.date_time.dt.dayofweek\n",
    "# final_dataframe['hour'] = final_dataframe.date_time.dt.hour"
   ]
  },
  {
   "cell_type": "code",
   "execution_count": 6,
   "id": "b81f34f8-1ef0-4883-868b-55217733f4bb",
   "metadata": {},
   "outputs": [],
   "source": [
    "# print(final_dataframe)"
   ]
  },
  {
   "cell_type": "code",
   "execution_count": 7,
   "id": "5efc84f6-bff4-4db9-866e-633777fd5e7c",
   "metadata": {},
   "outputs": [],
   "source": [
    "#make a column of merge date containing date merged with the location so that we can join the two dataframes on the basis of 'merge_date'\n",
    "rides['merge_date'] = rides.source.astype(str) +\" - \"+ rides.date_time.dt.date.astype(\"str\") +\" - \"+ rides.date_time.dt.hour.astype(\"str\")\n",
    "weather['merge_date'] = weather.location.astype(str) +\" - \"+ weather.date_time.dt.date.astype(\"str\") +\" - \"+ weather.date_time.dt.hour.astype(\"str\")\n",
    "\n"
   ]
  },
  {
   "cell_type": "code",
   "execution_count": 8,
   "id": "30f5125c-6ff6-4dff-a06f-1d4fa4b2f5fd",
   "metadata": {},
   "outputs": [],
   "source": [
    "# final_dataframe = rides.join(weather, on=['merge_date'],rsuffix = '_w')\n",
    "final_dataframe = rides.merge(weather, on=['merge_date'])\n",
    "\n",
    "#drop the null values rows\n",
    "\n",
    "final_dataframe=final_dataframe.dropna(axis=0)\n",
    "\n",
    "#make different columns of day and hour to simplify the format of date\n",
    "final_dataframe['day'] = final_dataframe.date_time_y.dt.dayofweek\n",
    "final_dataframe['hour'] = final_dataframe.date_time_y.dt.hour"
   ]
  },
  {
   "cell_type": "code",
   "execution_count": 9,
   "id": "66735bed-0348-4c1e-a44b-4dcf5bdba7a0",
   "metadata": {},
   "outputs": [],
   "source": [
    "# change the index to merge_date column so joining the two datasets will not generate any error.\n",
    "\n",
    "weather.index = weather['merge_date']\n",
    "\n",
    "# we ignored surge value of more than 3 because the samples are very limited for surge_multiplier>3\n",
    "surge_dataframe = final_dataframe[final_dataframe.surge_multiplier < 3]"
   ]
  },
  {
   "cell_type": "code",
   "execution_count": 10,
   "id": "9fae6722-450a-4fdf-985d-8154270d4b0f",
   "metadata": {},
   "outputs": [],
   "source": [
    "# print(surge_dataframe)"
   ]
  },
  {
   "cell_type": "code",
   "execution_count": 11,
   "id": "61ab8b4c-992e-4794-8aed-21b0c01b696a",
   "metadata": {
    "tags": []
   },
   "outputs": [],
   "source": [
    "# # filter to remove surge_multiplier of 1\n",
    "# surge_dataframe.drop(surge_dataframe.index[surge_dataframe['surge_multiplier'] == 1])\n",
    "\n",
    "# feature selection--> we are selecting the most relevant features from the dataset\n",
    "\n",
    "x = surge_dataframe[['distance','day','hour','temp','clouds','pressure','humidity','wind','rain']]\n",
    "\n",
    "y = surge_dataframe['surge_multiplier']"
   ]
  },
  {
   "cell_type": "code",
   "execution_count": 12,
   "id": "cf18f807-0f3d-42a0-aba5-9cf08a3b1726",
   "metadata": {},
   "outputs": [
    {
     "name": "stdout",
     "output_type": "stream",
     "text": [
      "192        1.0\n",
      "193        1.0\n",
      "194        1.0\n",
      "195        1.0\n",
      "196        1.0\n",
      "          ... \n",
      "1263788    1.0\n",
      "1263789    1.0\n",
      "1263790    1.0\n",
      "1263791    1.0\n",
      "1263792    1.0\n",
      "Name: surge_multiplier, Length: 190305, dtype: float64\n",
      "2.5\n",
      "<class 'pandas.core.series.Series'>\n"
     ]
    }
   ],
   "source": [
    "print(y)\n",
    "print(np.max(y))\n",
    "print(type(y))"
   ]
  },
  {
   "cell_type": "code",
   "execution_count": 13,
   "id": "df5065c4-6096-4dc4-8468-bb77aba6e348",
   "metadata": {},
   "outputs": [],
   "source": [
    "# print(y)"
   ]
  },
  {
   "cell_type": "code",
   "execution_count": 14,
   "id": "76b7187c-ab03-43c5-93ad-27b7cd3f19cc",
   "metadata": {},
   "outputs": [],
   "source": [
    "le = LabelEncoder()\n",
    "\n",
    "#ignoring multiplier of 3 as there are only 2 values in our dataset\n",
    "# le.fit([1.25,1.5,1.75,2.,2.25,2.5])\n",
    "le.fit([1,1.25,1.5,1.75,2.,2.25,2.5])\n",
    "y = le.transform(y)\n",
    "\n",
    "feature_list=list(x.columns)\n",
    "x_train,x_test,y_train,y_test = train_test_split(x,y,test_size=0.3,random_state=42) "
   ]
  },
  {
   "cell_type": "code",
   "execution_count": 15,
   "id": "5ad3d8a2-c308-43d2-92ae-e31a09d914cd",
   "metadata": {},
   "outputs": [],
   "source": [
    "# print(y)"
   ]
  },
  {
   "cell_type": "code",
   "execution_count": 16,
   "id": "71ae4a88-6350-4ab4-a249-afdf7c7ff190",
   "metadata": {},
   "outputs": [
    {
     "name": "stdout",
     "output_type": "stream",
     "text": [
      "{0: 129161, 1: 2181, 2: 951, 3: 482, 4: 414, 6: 24}\n"
     ]
    }
   ],
   "source": [
    "# Before Synthetic Minority Over-sampling TEchnique (SMOTE)\n",
    "unique, counts = np.unique(y_train, return_counts=True)\n",
    "print(dict(zip(unique, counts)))"
   ]
  },
  {
   "cell_type": "code",
   "execution_count": 17,
   "id": "b8d34539-55a2-4c9e-9086-1a730123d88d",
   "metadata": {},
   "outputs": [],
   "source": [
    "# After SMOTE\n",
    "from imblearn.over_sampling import SMOTE\n",
    "sm = SMOTE(random_state=42)\n",
    "train_features, train_labels = sm.fit_resample(x_train, y_train)\n",
    "\n",
    "test_features, test_labels = sm.fit_resample(x_test, y_test)"
   ]
  },
  {
   "cell_type": "code",
   "execution_count": 18,
   "id": "74535186-f2ca-46ae-9ad4-a7bf346d9974",
   "metadata": {},
   "outputs": [],
   "source": [
    "# print(train_labels)"
   ]
  },
  {
   "cell_type": "code",
   "execution_count": 19,
   "id": "ac15ad60-312b-4c66-b291-0f92cafbb061",
   "metadata": {},
   "outputs": [],
   "source": [
    "# Model training\n",
    "model = RandomForestClassifier(n_jobs=-1, random_state = 42, class_weight=\"balanced\")\n",
    "\n",
    "model.fit(x_train,y_train)\n",
    "y_pred=model.predict(x_test)"
   ]
  },
  {
   "cell_type": "code",
   "execution_count": 20,
   "id": "10cb3520-3ccc-4ac5-b3f0-09661d15e679",
   "metadata": {},
   "outputs": [
    {
     "name": "stdout",
     "output_type": "stream",
     "text": [
      "Variable: distance             Importance: 0.46\n",
      "Variable: temp                 Importance: 0.11\n",
      "Variable: wind                 Importance: 0.11\n",
      "Variable: pressure             Importance: 0.1\n",
      "Variable: rain                 Importance: 0.09\n",
      "Variable: humidity             Importance: 0.05\n",
      "Variable: hour                 Importance: 0.04\n",
      "Variable: clouds               Importance: 0.02\n",
      "Variable: day                  Importance: 0.01\n"
     ]
    },
    {
     "data": {
      "text/plain": [
       "[None, None, None, None, None, None, None, None, None]"
      ]
     },
     "execution_count": 20,
     "metadata": {},
     "output_type": "execute_result"
    }
   ],
   "source": [
    "# Feature importance\n",
    "# Get numerical feature importances\n",
    "importances = list(model.feature_importances_)\n",
    "# List of tuples with variable and importance\n",
    "feature_importances = [(feature, round(importance, 2)) for feature, importance in zip(feature_list, importances)]\n",
    "# Sort the feature importances by most important first\n",
    "feature_importances = sorted(feature_importances, key = lambda x: x[1], reverse = True)\n",
    "# Print out the feature and importances\n",
    "[print('Variable: {:20} Importance: {}'.format(*pair)) for pair in feature_importances]"
   ]
  },
  {
   "cell_type": "code",
   "execution_count": 21,
   "id": "290554fc-bfa6-46f4-8fba-aa986ac57e64",
   "metadata": {
    "tags": []
   },
   "outputs": [
    {
     "name": "stdout",
     "output_type": "stream",
     "text": [
      "Model accuracy is  95.44 %\n"
     ]
    }
   ],
   "source": [
    "# Evaluation of the built model\n",
    "from sklearn.metrics import accuracy_score\n",
    "from sklearn.metrics import f1_score\n",
    "f1_score(y_test, y_pred, average='weighted')\n",
    "accuracy = accuracy_score(y_test, y_pred)\n",
    "print('Model accuracy is ', round(accuracy * 100, 2), '%')"
   ]
  },
  {
   "cell_type": "code",
   "execution_count": 22,
   "id": "09b99105-5b51-4ba9-8605-1db9e0995985",
   "metadata": {},
   "outputs": [],
   "source": [
    "# print(np.max(y_test))"
   ]
  },
  {
   "cell_type": "code",
   "execution_count": 23,
   "id": "d9ba2f03-160d-4dfb-9469-d7cbd9d6f58e",
   "metadata": {},
   "outputs": [],
   "source": [
    "# print(np.sum(y_pred))"
   ]
  }
 ],
 "metadata": {
  "kernelspec": {
   "display_name": "Python 3 (ipykernel)",
   "language": "python",
   "name": "python3"
  },
  "language_info": {
   "codemirror_mode": {
    "name": "ipython",
    "version": 3
   },
   "file_extension": ".py",
   "mimetype": "text/x-python",
   "name": "python",
   "nbconvert_exporter": "python",
   "pygments_lexer": "ipython3",
   "version": "3.9.6"
  }
 },
 "nbformat": 4,
 "nbformat_minor": 5
}
